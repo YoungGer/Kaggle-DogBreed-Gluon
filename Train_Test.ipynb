{
 "cells": [
  {
   "cell_type": "code",
   "execution_count": 1,
   "metadata": {
    "collapsed": true
   },
   "outputs": [],
   "source": [
    "import numpy as np\n",
    "import h5py\n",
    "import os\n",
    "import mxnet as mx\n",
    "from mxnet import nd\n",
    "from mxnet.gluon import nn\n",
    "from sklearn.model_selection import train_test_split\n",
    "import matplotlib.pyplot as plt\n",
    "import pandas as pd\n",
    "%matplotlib inline"
   ]
  },
  {
   "cell_type": "markdown",
   "metadata": {},
   "source": [
    "# Load Data"
   ]
  },
  {
   "cell_type": "code",
   "execution_count": 2,
   "metadata": {},
   "outputs": [
    {
     "name": "stdout",
     "output_type": "stream",
     "text": [
      "X_train Size:  (10222, 2048)\n",
      "X_test Size:  (10357, 2048)\n",
      "y_train Size:  (10222,)\n"
     ]
    }
   ],
   "source": [
    "with h5py.File('/home/guangyaoyang/data/dogBreed/resnet50_v2_pretrained_Xy.h5', 'r') as f:\n",
    "    X_train_resnet50_v2 = np.array(f['X_train_resnet50_v2'])\n",
    "    X_test_resnet50_v2 = np.array(f['X_test_resnet50_v2'])\n",
    "    y_train = np.array(f['y_train'])\n",
    "    \n",
    "print (\"X_train Size: \", X_train_resnet50_v2.shape)\n",
    "print (\"X_test Size: \", X_test_resnet50_v2.shape)\n",
    "print (\"y_train Size: \", y_train.shape)"
   ]
  },
  {
   "cell_type": "markdown",
   "metadata": {},
   "source": [
    "# Data Iterator"
   ]
  },
  {
   "cell_type": "code",
   "execution_count": 3,
   "metadata": {
    "collapsed": true
   },
   "outputs": [],
   "source": [
    "X_train, X_val, y_train, y_val = train_test_split(X_train_resnet50_v2, y_train, test_size=0.2)\n",
    "\n",
    "# dataset\n",
    "dataset_train = mx.gluon.data.ArrayDataset(nd.array(X_train), nd.array(y_train))\n",
    "dataset_val = mx.gluon.data.ArrayDataset(nd.array(X_val), nd.array(y_val))\n",
    "\n",
    "# data itet\n",
    "batch_size = 128\n",
    "data_iter_train = mx.gluon.data.DataLoader(dataset_train, batch_size, shuffle=True)\n",
    "data_iter_val = mx.gluon.data.DataLoader(dataset_val, batch_size)"
   ]
  },
  {
   "cell_type": "markdown",
   "metadata": {},
   "source": [
    "# Build Model"
   ]
  },
  {
   "cell_type": "code",
   "execution_count": 4,
   "metadata": {
    "collapsed": true
   },
   "outputs": [],
   "source": [
    "ctx = mx.gpu()\n",
    "def get_net(ctx):\n",
    "\n",
    "    net = nn.Sequential()\n",
    "    with net.name_scope():\n",
    "        net.add(nn.Dense(256, activation='relu'))\n",
    "        net.add(nn.Dropout(0.5))\n",
    "        net.add(nn.Dense(120))\n",
    "\n",
    "    net.initialize(ctx=ctx)\n",
    "    return net"
   ]
  },
  {
   "cell_type": "markdown",
   "metadata": {},
   "source": [
    "# Training"
   ]
  },
  {
   "cell_type": "code",
   "execution_count": 5,
   "metadata": {
    "collapsed": true
   },
   "outputs": [],
   "source": [
    "def accuracy(output, labels):\n",
    "    return nd.mean(nd.argmax(output, axis=1) == labels).asscalar()\n",
    "\n",
    "def evaluate(net, data_iter):\n",
    "    softmax_cross_entropy = mx.gluon.loss.SoftmaxCrossEntropyLoss()\n",
    "    loss, acc, n = 0., 0., 0.\n",
    "    steps = len(data_iter)\n",
    "    for data, label in data_iter:\n",
    "        data, label = data.as_in_context(ctx), label.as_in_context(ctx)\n",
    "        output = net(data)\n",
    "        acc += accuracy(output, label)\n",
    "        loss += nd.mean(softmax_cross_entropy(output, label)).asscalar()\n",
    "    return loss/steps, acc/steps"
   ]
  },
  {
   "cell_type": "code",
   "execution_count": 6,
   "metadata": {
    "collapsed": true
   },
   "outputs": [],
   "source": [
    "def train(net, data_iter_train, data_iter_val, ctx, \n",
    "          epochs=50, lr=0.01, mome=0.9, wd=1e-4, lr_decay=0.5, lr_period=20):\n",
    "\n",
    "    softmax_cross_entropy = mx.gluon.loss.SoftmaxCrossEntropyLoss()\n",
    "    trainer = mx.gluon.Trainer(net.collect_params(),  'sgd', {'learning_rate': lr, 'momentum': mome, \n",
    "                                      'wd': wd})\n",
    "    \n",
    "    train_loss_list = []\n",
    "    val_loss_list = []\n",
    "    \n",
    "    for epoch in range(epochs):\n",
    "        train_loss = 0.0\n",
    "        train_acc = 0.0\n",
    "        steps = len(data_iter_train)\n",
    "        if epoch > 0 and epoch % lr_period == 0:\n",
    "            trainer.set_learning_rate(trainer.learning_rate * lr_decay)\n",
    "        for X, y in data_iter_train:\n",
    "\n",
    "            X, y = X.as_in_context(ctx), y.as_in_context(ctx)\n",
    "\n",
    "            with mx.autograd.record():\n",
    "                out = net(X)\n",
    "                loss = softmax_cross_entropy(out, y)\n",
    "\n",
    "            loss.backward()\n",
    "            trainer.step(batch_size)\n",
    "\n",
    "            train_loss += nd.mean(loss).asscalar()\n",
    "\n",
    "\n",
    "            train_acc += accuracy(out, y)\n",
    "\n",
    "        val_loss, val_acc = evaluate(net, data_iter_val)\n",
    "        train_loss_list.append(train_loss/steps)\n",
    "        val_loss_list.append(val_loss)\n",
    "        print(\"Epoch %d. loss: %.4f, acc: %.2f%%, val_loss %.4f, val_acc %.2f%%\" % (\n",
    "            epoch+1, train_loss/steps, train_acc/steps*100, val_loss, val_acc*100))\n",
    "        \n",
    "    return train_loss_list, val_loss_list"
   ]
  },
  {
   "cell_type": "code",
   "execution_count": 7,
   "metadata": {
    "scrolled": true
   },
   "outputs": [
    {
     "name": "stdout",
     "output_type": "stream",
     "text": [
      "Epoch 1. loss: 4.1521, acc: 13.40%, val_loss 2.7939, val_acc 53.78%\n",
      "Epoch 2. loss: 2.1454, acc: 48.24%, val_loss 1.2305, val_acc 75.26%\n",
      "Epoch 3. loss: 1.3052, acc: 64.59%, val_loss 0.8557, val_acc 78.87%\n",
      "Epoch 4. loss: 1.0280, acc: 70.11%, val_loss 0.7375, val_acc 79.17%\n",
      "Epoch 5. loss: 0.8942, acc: 73.60%, val_loss 0.6764, val_acc 80.29%\n",
      "Epoch 6. loss: 0.8265, acc: 75.38%, val_loss 0.6434, val_acc 81.22%\n",
      "Epoch 7. loss: 0.7720, acc: 76.28%, val_loss 0.6237, val_acc 80.97%\n",
      "Epoch 8. loss: 0.7148, acc: 78.56%, val_loss 0.5937, val_acc 81.66%\n",
      "Epoch 9. loss: 0.6776, acc: 79.76%, val_loss 0.5854, val_acc 81.51%\n",
      "Epoch 10. loss: 0.6465, acc: 79.64%, val_loss 0.5993, val_acc 81.02%\n",
      "Epoch 11. loss: 0.6242, acc: 80.81%, val_loss 0.5789, val_acc 81.27%\n",
      "Epoch 12. loss: 0.6086, acc: 80.95%, val_loss 0.5714, val_acc 81.46%\n",
      "Epoch 13. loss: 0.5849, acc: 82.03%, val_loss 0.5715, val_acc 81.85%\n",
      "Epoch 14. loss: 0.5526, acc: 82.43%, val_loss 0.5604, val_acc 82.20%\n",
      "Epoch 15. loss: 0.5432, acc: 83.20%, val_loss 0.5552, val_acc 82.44%\n",
      "Epoch 16. loss: 0.5320, acc: 83.04%, val_loss 0.5730, val_acc 81.66%\n",
      "Epoch 17. loss: 0.5307, acc: 82.82%, val_loss 0.5587, val_acc 82.05%\n",
      "Epoch 18. loss: 0.5022, acc: 83.99%, val_loss 0.5627, val_acc 81.80%\n",
      "Epoch 19. loss: 0.4848, acc: 85.12%, val_loss 0.5469, val_acc 82.24%\n",
      "Epoch 20. loss: 0.4755, acc: 84.49%, val_loss 0.5621, val_acc 81.90%\n",
      "Epoch 21. loss: 0.4523, acc: 85.52%, val_loss 0.5434, val_acc 82.34%\n",
      "Epoch 22. loss: 0.4412, acc: 86.06%, val_loss 0.5442, val_acc 82.69%\n",
      "Epoch 23. loss: 0.4393, acc: 85.66%, val_loss 0.5390, val_acc 82.88%\n",
      "Epoch 24. loss: 0.4167, acc: 86.58%, val_loss 0.5402, val_acc 83.08%\n",
      "Epoch 25. loss: 0.4203, acc: 86.74%, val_loss 0.5404, val_acc 82.54%\n",
      "Epoch 26. loss: 0.4172, acc: 86.52%, val_loss 0.5417, val_acc 82.40%\n",
      "Epoch 27. loss: 0.4114, acc: 87.39%, val_loss 0.5392, val_acc 83.13%\n",
      "Epoch 28. loss: 0.4063, acc: 87.33%, val_loss 0.5385, val_acc 82.98%\n",
      "Epoch 29. loss: 0.3953, acc: 87.68%, val_loss 0.5459, val_acc 82.49%\n",
      "Epoch 30. loss: 0.3921, acc: 87.68%, val_loss 0.5456, val_acc 82.34%\n",
      "Epoch 31. loss: 0.3792, acc: 87.97%, val_loss 0.5396, val_acc 82.59%\n",
      "Epoch 32. loss: 0.3903, acc: 87.42%, val_loss 0.5409, val_acc 83.13%\n",
      "Epoch 33. loss: 0.3715, acc: 88.15%, val_loss 0.5401, val_acc 83.23%\n",
      "Epoch 34. loss: 0.3753, acc: 88.42%, val_loss 0.5417, val_acc 82.44%\n",
      "Epoch 35. loss: 0.3728, acc: 88.20%, val_loss 0.5474, val_acc 82.74%\n",
      "Epoch 36. loss: 0.3655, acc: 88.28%, val_loss 0.5463, val_acc 82.59%\n",
      "Epoch 37. loss: 0.3618, acc: 88.71%, val_loss 0.5477, val_acc 82.59%\n",
      "Epoch 38. loss: 0.3671, acc: 88.47%, val_loss 0.5435, val_acc 82.78%\n",
      "Epoch 39. loss: 0.3597, acc: 88.48%, val_loss 0.5525, val_acc 82.98%\n",
      "Epoch 40. loss: 0.3528, acc: 88.71%, val_loss 0.5498, val_acc 82.59%\n",
      "Epoch 41. loss: 0.3519, acc: 89.10%, val_loss 0.5443, val_acc 82.93%\n",
      "Epoch 42. loss: 0.3414, acc: 89.23%, val_loss 0.5419, val_acc 83.08%\n",
      "Epoch 43. loss: 0.3331, acc: 89.57%, val_loss 0.5430, val_acc 83.13%\n",
      "Epoch 44. loss: 0.3338, acc: 89.63%, val_loss 0.5429, val_acc 82.78%\n",
      "Epoch 45. loss: 0.3295, acc: 89.69%, val_loss 0.5455, val_acc 82.88%\n",
      "Epoch 46. loss: 0.3282, acc: 89.71%, val_loss 0.5436, val_acc 82.64%\n",
      "Epoch 47. loss: 0.3187, acc: 90.00%, val_loss 0.5439, val_acc 83.37%\n",
      "Epoch 48. loss: 0.3272, acc: 89.97%, val_loss 0.5406, val_acc 83.17%\n",
      "Epoch 49. loss: 0.3226, acc: 89.90%, val_loss 0.5410, val_acc 83.22%\n",
      "Epoch 50. loss: 0.3306, acc: 89.56%, val_loss 0.5413, val_acc 83.32%\n",
      "Epoch 51. loss: 0.3204, acc: 90.05%, val_loss 0.5422, val_acc 82.98%\n",
      "Epoch 52. loss: 0.3187, acc: 89.83%, val_loss 0.5417, val_acc 83.03%\n",
      "Epoch 53. loss: 0.3209, acc: 90.06%, val_loss 0.5446, val_acc 82.83%\n",
      "Epoch 54. loss: 0.3142, acc: 90.31%, val_loss 0.5452, val_acc 82.83%\n",
      "Epoch 55. loss: 0.3096, acc: 90.70%, val_loss 0.5448, val_acc 82.98%\n",
      "Epoch 56. loss: 0.3084, acc: 89.98%, val_loss 0.5434, val_acc 82.88%\n",
      "Epoch 57. loss: 0.3216, acc: 89.79%, val_loss 0.5441, val_acc 83.13%\n",
      "Epoch 58. loss: 0.3107, acc: 90.19%, val_loss 0.5447, val_acc 82.83%\n",
      "Epoch 59. loss: 0.3114, acc: 90.60%, val_loss 0.5417, val_acc 83.17%\n",
      "Epoch 60. loss: 0.3132, acc: 90.14%, val_loss 0.5409, val_acc 83.03%\n",
      "Epoch 61. loss: 0.3065, acc: 90.43%, val_loss 0.5396, val_acc 83.27%\n",
      "Epoch 62. loss: 0.3078, acc: 90.50%, val_loss 0.5420, val_acc 83.13%\n",
      "Epoch 63. loss: 0.2972, acc: 90.87%, val_loss 0.5387, val_acc 83.27%\n",
      "Epoch 64. loss: 0.2986, acc: 91.00%, val_loss 0.5385, val_acc 83.22%\n",
      "Epoch 65. loss: 0.2973, acc: 91.00%, val_loss 0.5390, val_acc 83.37%\n",
      "Epoch 66. loss: 0.2959, acc: 90.92%, val_loss 0.5409, val_acc 83.22%\n",
      "Epoch 67. loss: 0.2946, acc: 91.05%, val_loss 0.5406, val_acc 82.93%\n",
      "Epoch 68. loss: 0.3039, acc: 90.76%, val_loss 0.5421, val_acc 83.42%\n",
      "Epoch 69. loss: 0.2944, acc: 90.84%, val_loss 0.5413, val_acc 82.93%\n",
      "Epoch 70. loss: 0.2935, acc: 91.05%, val_loss 0.5408, val_acc 83.13%\n",
      "Epoch 71. loss: 0.2878, acc: 91.15%, val_loss 0.5427, val_acc 83.22%\n",
      "Epoch 72. loss: 0.2977, acc: 90.99%, val_loss 0.5426, val_acc 83.13%\n",
      "Epoch 73. loss: 0.3007, acc: 90.64%, val_loss 0.5407, val_acc 82.98%\n",
      "Epoch 74. loss: 0.2862, acc: 91.40%, val_loss 0.5408, val_acc 83.28%\n",
      "Epoch 75. loss: 0.2981, acc: 90.68%, val_loss 0.5435, val_acc 82.78%\n",
      "Epoch 76. loss: 0.2906, acc: 90.77%, val_loss 0.5420, val_acc 83.17%\n",
      "Epoch 77. loss: 0.2873, acc: 91.13%, val_loss 0.5408, val_acc 83.27%\n",
      "Epoch 78. loss: 0.2923, acc: 90.87%, val_loss 0.5435, val_acc 83.02%\n",
      "Epoch 79. loss: 0.2949, acc: 91.09%, val_loss 0.5424, val_acc 83.42%\n",
      "Epoch 80. loss: 0.2877, acc: 91.14%, val_loss 0.5427, val_acc 83.27%\n",
      "Epoch 81. loss: 0.2925, acc: 90.86%, val_loss 0.5404, val_acc 83.32%\n",
      "Epoch 82. loss: 0.2866, acc: 91.01%, val_loss 0.5412, val_acc 83.47%\n",
      "Epoch 83. loss: 0.2885, acc: 90.87%, val_loss 0.5408, val_acc 83.52%\n",
      "Epoch 84. loss: 0.2833, acc: 91.13%, val_loss 0.5417, val_acc 83.32%\n",
      "Epoch 85. loss: 0.2899, acc: 91.57%, val_loss 0.5411, val_acc 83.47%\n",
      "Epoch 86. loss: 0.2764, acc: 91.61%, val_loss 0.5415, val_acc 83.18%\n",
      "Epoch 87. loss: 0.2810, acc: 91.42%, val_loss 0.5426, val_acc 82.93%\n",
      "Epoch 88. loss: 0.2771, acc: 91.47%, val_loss 0.5430, val_acc 83.12%\n",
      "Epoch 89. loss: 0.2815, acc: 91.40%, val_loss 0.5424, val_acc 83.32%\n",
      "Epoch 90. loss: 0.2851, acc: 91.14%, val_loss 0.5427, val_acc 83.32%\n",
      "Epoch 91. loss: 0.2837, acc: 91.25%, val_loss 0.5430, val_acc 82.83%\n",
      "Epoch 92. loss: 0.2782, acc: 91.27%, val_loss 0.5416, val_acc 83.13%\n",
      "Epoch 93. loss: 0.2806, acc: 91.33%, val_loss 0.5422, val_acc 83.08%\n",
      "Epoch 94. loss: 0.2875, acc: 91.02%, val_loss 0.5421, val_acc 83.27%\n",
      "Epoch 95. loss: 0.2848, acc: 91.49%, val_loss 0.5428, val_acc 83.17%\n",
      "Epoch 96. loss: 0.2776, acc: 91.39%, val_loss 0.5417, val_acc 83.56%\n",
      "Epoch 97. loss: 0.2809, acc: 91.46%, val_loss 0.5430, val_acc 83.27%\n",
      "Epoch 98. loss: 0.2872, acc: 91.30%, val_loss 0.5424, val_acc 83.13%\n",
      "Epoch 99. loss: 0.2770, acc: 91.67%, val_loss 0.5420, val_acc 83.18%\n",
      "Epoch 100. loss: 0.2801, acc: 91.31%, val_loss 0.5427, val_acc 83.08%\n"
     ]
    }
   ],
   "source": [
    "net = get_net(ctx)\n",
    "train_loss_list, val_loss_list = train(net, data_iter_train, data_iter_val, ctx, epochs=100, lr=0.01, \\\n",
    "      mome=0.9, wd=1e-4, lr_decay=0.5, lr_period=20)"
   ]
  },
  {
   "cell_type": "code",
   "execution_count": 8,
   "metadata": {},
   "outputs": [
    {
     "data": {
      "text/plain": [
       "<matplotlib.legend.Legend at 0x7fedf0acd6a0>"
      ]
     },
     "execution_count": 8,
     "metadata": {},
     "output_type": "execute_result"
    },
    {
     "data": {
      "image/png": "[encoded data removed]",
      "text/plain": [
       "<matplotlib.figure.Figure at 0x7fed7e3b4588>"
      ]
     },
     "metadata": {},
     "output_type": "display_data"
    }
   ],
   "source": [
    "plt.plot(train_loss_list, label=\"train_loss\")\n",
    "plt.plot(val_loss_list, label=\"val_loss\")\n",
    "plt.legend()"
   ]
  },
  {
   "cell_type": "code",
   "execution_count": 9,
   "metadata": {},
   "outputs": [
    {
     "data": {
      "text/plain": [
       "(0, 1.5)"
      ]
     },
     "execution_count": 9,
     "metadata": {},
     "output_type": "execute_result"
    },
    {
     "data": {
      "image/png": "[encoded data removed]",
      "text/plain": [
       "<matplotlib.figure.Figure at 0x7fed7df205c0>"
      ]
     },
     "metadata": {},
     "output_type": "display_data"
    }
   ],
   "source": [
    "plt.plot(train_loss_list, label=\"train_loss\")\n",
    "plt.plot(val_loss_list, label=\"val_loss\")\n",
    "plt.legend()\n",
    "plt.ylim([0,1.5])"
   ]
  },
  {
   "cell_type": "markdown",
   "metadata": {},
   "source": [
    "# Testing"
   ]
  },
  {
   "cell_type": "code",
   "execution_count": 93,
   "metadata": {
    "collapsed": true
   },
   "outputs": [],
   "source": [
    "out_softmax = nd.softmax(net(nd.array(X_test_resnet50_v2).as_in_context(ctx)))\n",
    "\n",
    "synsets = mx.gluon.data.vision.ImageFolderDataset(\"/home/guangyaoyang/data/dogBreed/train_gy\").synsets\n",
    "ids = sorted(os.listdir(\"/home/guangyaoyang/data/dogBreed/test_gy/0/\"))\n",
    "ids = [i[:-4] for i in ids]\n",
    "\n",
    "df = pd.DataFrame(out_softmax.asnumpy())\n",
    "df.columns = synsets\n",
    "df[\"id\"] = ids\n",
    "df = df[[\"id\"]+synsets]"
   ]
  },
  {
   "cell_type": "code",
   "execution_count": 104,
   "metadata": {
    "collapsed": true
   },
   "outputs": [],
   "source": [
    "df.to_csv('/home/guangyaoyang/data/dogBreed/pred2.csv', index=None)"
   ]
  }
 ],
 "metadata": {
  "kernelspec": {
   "display_name": "Python 3",
   "language": "python",
   "name": "python3"
  },
  "language_info": {
   "codemirror_mode": {
    "name": "ipython",
    "version": 3
   },
   "file_extension": ".py",
   "mimetype": "text/x-python",
   "name": "python",
   "nbconvert_exporter": "python",
   "pygments_lexer": "ipython3",
   "version": "3.6.2"
  }
 },
 "nbformat": 4,
 "nbformat_minor": 2
}
